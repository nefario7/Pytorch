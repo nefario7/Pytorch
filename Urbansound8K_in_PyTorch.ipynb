{
  "nbformat": 4,
  "nbformat_minor": 0,
  "metadata": {
    "colab": {
      "name": "Urbansound8K in PyTorch.ipynb",
      "provenance": [],
      "collapsed_sections": [],
      "toc_visible": true,
      "authorship_tag": "ABX9TyMOPvpwCNdLKk9WJG3GVXIx",
      "include_colab_link": true
    },
    "kernelspec": {
      "name": "python3",
      "display_name": "Python 3"
    },
    "accelerator": "GPU"
  },
  "cells": [
    {
      "cell_type": "markdown",
      "metadata": {
        "id": "view-in-github",
        "colab_type": "text"
      },
      "source": [
        "<a href=\"https://colab.research.google.com/github/nefario7/Pytorch/blob/master/Urbansound8K_in_PyTorch.ipynb\" target=\"_parent\"><img src=\"https://colab.research.google.com/assets/colab-badge.svg\" alt=\"Open In Colab\"/></a>"
      ]
    },
    {
      "cell_type": "markdown",
      "metadata": {
        "id": "kuMEcxAQIbd-",
        "colab_type": "text"
      },
      "source": [
        "# Mounting Google Drive to save model"
      ]
    },
    {
      "cell_type": "code",
      "metadata": {
        "id": "BUu02ZuRIYTH",
        "colab_type": "code",
        "outputId": "bc5b5710-42a3-40ab-cdb0-115c2a84e125",
        "colab": {
          "base_uri": "https://localhost:8080/",
          "height": 122
        }
      },
      "source": [
        "from google.colab import drive\n",
        "drive.mount('/content/gdrive')"
      ],
      "execution_count": 1,
      "outputs": [
        {
          "output_type": "stream",
          "text": [
            "Go to this URL in a browser: https://accounts.google.com/o/oauth2/auth?client_id=947318989803-6bn6qk8qdgf4n4g3pfee6491hc0brc4i.apps.googleusercontent.com&redirect_uri=urn%3aietf%3awg%3aoauth%3a2.0%3aoob&response_type=code&scope=email%20https%3a%2f%2fwww.googleapis.com%2fauth%2fdocs.test%20https%3a%2f%2fwww.googleapis.com%2fauth%2fdrive%20https%3a%2f%2fwww.googleapis.com%2fauth%2fdrive.photos.readonly%20https%3a%2f%2fwww.googleapis.com%2fauth%2fpeopleapi.readonly\n",
            "\n",
            "Enter your authorization code:\n",
            "··········\n",
            "Mounted at /content/gdrive\n"
          ],
          "name": "stdout"
        }
      ]
    },
    {
      "cell_type": "code",
      "metadata": {
        "id": "mxCrQuZOIVE3",
        "colab_type": "code",
        "colab": {}
      },
      "source": [
        "#!ls \"/content/gdrive/My Drive\"\n"
      ],
      "execution_count": 0,
      "outputs": []
    },
    {
      "cell_type": "markdown",
      "metadata": {
        "id": "d4gTfEc7Ihnf",
        "colab_type": "text"
      },
      "source": [
        "# Downloading and Processing Data from Kaggle"
      ]
    },
    {
      "cell_type": "code",
      "metadata": {
        "id": "ByK5Ikc6Rj41",
        "colab_type": "code",
        "outputId": "5e4a652f-ed0f-4ac3-e349-c21ad7eecde3",
        "colab": {
          "resources": {
            "http://localhost:8080/nbextensions/google.colab/files.js": {
              "data": "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",
              "ok": true,
              "headers": [
                [
                  "content-type",
                  "application/javascript"
                ]
              ],
              "status": 200,
              "status_text": ""
            }
          },
          "base_uri": "https://localhost:8080/",
          "height": 40
        }
      },
      "source": [
        "from google.colab import files\n",
        "files.upload()"
      ],
      "execution_count": 0,
      "outputs": [
        {
          "output_type": "display_data",
          "data": {
            "text/html": [
              "\n",
              "     <input type=\"file\" id=\"files-b49cf4b5-0a77-4db2-bd20-5dbc49c2ed8c\" name=\"files[]\" multiple disabled />\n",
              "     <output id=\"result-b49cf4b5-0a77-4db2-bd20-5dbc49c2ed8c\">\n",
              "      Upload widget is only available when the cell has been executed in the\n",
              "      current browser session. Please rerun this cell to enable.\n",
              "      </output>\n",
              "      <script src=\"/nbextensions/google.colab/files.js\"></script> "
            ],
            "text/plain": [
              "<IPython.core.display.HTML object>"
            ]
          },
          "metadata": {
            "tags": []
          }
        }
      ]
    },
    {
      "cell_type": "code",
      "metadata": {
        "id": "4GK2H90sR_CY",
        "colab_type": "code",
        "colab": {}
      },
      "source": [
        "!mkdir -p ~/.kaggle\n",
        "!cp kaggle.json ~/.kaggle/\n",
        "\n",
        "!chmod 600 ~/.kaggle/kaggle.json"
      ],
      "execution_count": 0,
      "outputs": []
    },
    {
      "cell_type": "code",
      "metadata": {
        "id": "hocd_oUaSrUT",
        "colab_type": "code",
        "colab": {}
      },
      "source": [
        "!kaggle datasets download -d chrisfilo/urbansound8k"
      ],
      "execution_count": 0,
      "outputs": []
    },
    {
      "cell_type": "code",
      "metadata": {
        "id": "q-zguuLLTAAq",
        "colab_type": "code",
        "colab": {}
      },
      "source": [
        "from zipfile import ZipFile\n",
        "filename = 'urbansound8k.zip'\n",
        "\n",
        "with ZipFile(filename, 'r') as zip:\n",
        "  zip.extractall()\n",
        "  print('Done')"
      ],
      "execution_count": 0,
      "outputs": []
    },
    {
      "cell_type": "markdown",
      "metadata": {
        "id": "ve284roMUHJ6",
        "colab_type": "text"
      },
      "source": [
        "# Creating the training and testing folders"
      ]
    },
    {
      "cell_type": "code",
      "metadata": {
        "id": "GaCznqktUGA8",
        "colab_type": "code",
        "colab": {}
      },
      "source": [
        "import os, shutil\n",
        "import numpy as np\n",
        "import random\n",
        "\n",
        "#Combining all the files in one folder\n",
        "destination = r\"C:\\Users\\gargchi\\Documents\\torchdir\\UrbanSound8K\\UrbanSound8K\\audio\\all\"\n",
        "folders = r\"C:\\Users\\gargchi\\Documents\\torchdir\\UrbanSound8K\\UrbanSound8K\\audio\\fold\"\n",
        "\n",
        "alldir = 'all'\n",
        "os.mkdir(alldir)\n",
        "\n",
        "for i in range(1,11):\n",
        "    fpath = 'fold' + str(i)\n",
        "    for aud in os.listdir(fpath):\n",
        "        shutil.move(os.path.join(fpath, aud), alldir)\n",
        "print('Done!')"
      ],
      "execution_count": 0,
      "outputs": []
    },
    {
      "cell_type": "code",
      "metadata": {
        "id": "eUMNbbSoWWUt",
        "colab_type": "code",
        "colab": {}
      },
      "source": [
        "print(len(os.listdir('all')))"
      ],
      "execution_count": 0,
      "outputs": []
    },
    {
      "cell_type": "code",
      "metadata": {
        "id": "RfGsRFQRWd5J",
        "colab_type": "code",
        "colab": {}
      },
      "source": [
        "#*Creating Test Data\n",
        "os.mkdir('nntest')\n",
        "numtest = 873\n",
        "for i in np.arange(numtest):\n",
        "    dirpath = 'all'\n",
        "    filename = random.choice(os.listdir(dirpath))\n",
        "    testsource = os.path.join(dirpath, filename)\n",
        "    shutil.move(testsource,'nntest')"
      ],
      "execution_count": 0,
      "outputs": []
    },
    {
      "cell_type": "code",
      "metadata": {
        "id": "ob3FY_EQW8_r",
        "colab_type": "code",
        "colab": {}
      },
      "source": [
        "print(len(os.listdir('nntest')))"
      ],
      "execution_count": 0,
      "outputs": []
    },
    {
      "cell_type": "code",
      "metadata": {
        "id": "vpLYtL4EvIpJ",
        "colab_type": "code",
        "colab": {}
      },
      "source": [
        "import torch\n",
        "if torch.cuda.is_available():\n",
        "    print(\"Yay\")\n",
        "    print(torch.cuda.get_device_name(0))\n",
        "    use_cuda = True\n",
        "else:\n",
        "    print(\"Nay\")\n",
        "    use_cuda = False"
      ],
      "execution_count": 0,
      "outputs": []
    },
    {
      "cell_type": "markdown",
      "metadata": {
        "id": "_WD97ikk4CvV",
        "colab_type": "text"
      },
      "source": [
        "# Loading Tensorboard "
      ]
    },
    {
      "cell_type": "code",
      "metadata": {
        "id": "yCWwWH-9iDxW",
        "colab_type": "code",
        "colab": {}
      },
      "source": [
        "%load_ext tensorboard"
      ],
      "execution_count": 0,
      "outputs": []
    },
    {
      "cell_type": "code",
      "metadata": {
        "id": "ash_OwbQkeRv",
        "colab_type": "code",
        "colab": {}
      },
      "source": [
        "import os\n",
        "LOG_DIR = 'runs'\n",
        "os.makedirs(LOG_DIR, exist_ok=True)\n",
        "# !wget https://bin.equinox.io/c/4VmDzA7iaHb/ngrok-stable-linux-amd64.zip\n",
        "# !unzip ngrok-stable-linux-amd64.zip\n",
        "# get_ipython().system_raw(\n",
        "#     'tensorboard --logdir {} --host 0.0.0.0 --port 6006 &'\n",
        "#     .format(LOG_DIR))\n",
        "\n",
        "# get_ipython().system_raw('./ngrok http 6006 &')\n",
        "\n",
        "# ! curl -s http://localhost:4040/api/tunnels | python3 -c \\\n",
        "#     \"import sys, json; print(json.load(sys.stdin)['tunnels'][0]['public_url'])\""
      ],
      "execution_count": 0,
      "outputs": []
    },
    {
      "cell_type": "markdown",
      "metadata": {
        "id": "EaqZ3j1hxsh4",
        "colab_type": "text"
      },
      "source": [
        "# Installing and Importing the dependencies"
      ]
    },
    {
      "cell_type": "code",
      "metadata": {
        "id": "GhXc8o8yxI6a",
        "colab_type": "code",
        "colab": {}
      },
      "source": [
        "!pip install torchaudio\n",
        "import os\n",
        "import pandas as pd \n",
        "import matplotlib.pyplot as plt\n",
        "import librosa as lb\n",
        "import torch\n",
        "import torch.nn as nn\n",
        "import torch.nn.functional as F\n",
        "import torchaudio.transforms\n",
        "import torchaudio\n",
        "import numpy as np\n",
        "from torch import optim \n",
        "from torch.utils.data import Dataset\n",
        "from tqdm import tqdm\n",
        "from torch.utils.tensorboard import SummaryWriter"
      ],
      "execution_count": 0,
      "outputs": []
    },
    {
      "cell_type": "markdown",
      "metadata": {
        "id": "tpWFZFV_x1h8",
        "colab_type": "text"
      },
      "source": [
        "# Defining Custom Dataset"
      ]
    },
    {
      "cell_type": "code",
      "metadata": {
        "id": "bzirQqIZx8qc",
        "colab_type": "code",
        "colab": {}
      },
      "source": [
        "path = os.getcwd()\n",
        "print(\"Current Working Directory : {}\".format(path))\n",
        "\n",
        "#*Paths for the data and metadata of the UrbansSound 8K Dataset\n",
        "csv_path = 'UrbanSound8K.csv'\n",
        "train_path = 'all'\n",
        "test_path = 'nntest'\n",
        "\n",
        "csvData = pd.read_csv(csv_path)\n",
        "print(\"\\nMETADATA SAMPLE\")\n",
        "print(csvData.head())\n",
        "\n",
        "#*Parameters and others\n",
        "max_epochs = 100\n",
        "layer_nodes = [11479, 5000, 2000, 200, 10]\n",
        "identifiers = {0 : 'air_conditioner',\n",
        "                1 : 'car_horn',\n",
        "                2 : 'children_playing', \n",
        "                3 : 'dog_bark',\n",
        "                4 : 'drilling',\n",
        "                5 : 'engine_idling',\n",
        "                6 : 'gun_shot',\n",
        "                7 : 'jackhammer',\n",
        "                8 : 'siren',\n",
        "                9 : 'street_music'}\n",
        "\n",
        "\n",
        "#*Class defining the Custom Dataset\n",
        "class urbansound(Dataset):\n",
        "    def __init__(self, csv_path, file_path, transform = None):\n",
        "        self.file_path = file_path\n",
        "        self.csv_path = csv_path\n",
        "        self.file_names = []\n",
        "        self.labels = []\n",
        "\n",
        "        metadata = pd.read_csv(csv_path)\n",
        "        for i in tqdm(range(len(metadata))):\n",
        "            if metadata.iloc[i,0] in os.listdir(file_path):\n",
        "                self.file_names.append(metadata.iloc[i, 0])\n",
        "                self.labels.append(metadata.iloc[i, 6])\n",
        "\n",
        "    def __getitem__(self, index):\n",
        "        path = os.path.join(self.file_path, self.file_names[index])\n",
        "        sound, srate = torchaudio.load(path, out=None, normalization=True)\n",
        "\n",
        "        resound = torchaudio.transforms.Resample(srate, 44100)(sound)\n",
        "        monosound = torch.mean(resound, dim=0)\n",
        "        features = torchaudio.transforms.MFCC(sample_rate=srate, n_mfcc=13)(monosound)\n",
        "        features = features.reshape(1, -1)\n",
        "\n",
        "        reqpad = layer_nodes[0] - features.size()[1]\n",
        "        features = torch.nn.functional.pad(features, (0, reqpad), mode='constant', value=0)\n",
        "\n",
        "        return features, self.labels[index]\n",
        "\n",
        "    def __len__(self):\n",
        "        return len(self.file_names)\n"
      ],
      "execution_count": 0,
      "outputs": []
    },
    {
      "cell_type": "markdown",
      "metadata": {
        "id": "9Z_K2r2_yLit",
        "colab_type": "text"
      },
      "source": [
        "# Loading the Training and Testdata"
      ]
    },
    {
      "cell_type": "code",
      "metadata": {
        "id": "iXWov3t7yKxd",
        "colab_type": "code",
        "colab": {}
      },
      "source": [
        "#*Load the Training Data \n",
        "trainset = urbansound(csv_path, train_path)\n",
        "trainloader = torch.utils.data.DataLoader(trainset, batch_size=256, shuffle=True) \n",
        "\n",
        "#*Load the Test Data\n",
        "testset = urbansound(csv_path, test_path)\n",
        "testloader = torch.utils.data.DataLoader(testset, batch_size=128, shuffle=True)\n",
        "\n",
        "print(\"\\nDATASET SIZES\")\n",
        "print(\"Train set size: {}\".format(len(trainset)))\n",
        "print(\"Test set size: {}\".format(len(testset)))"
      ],
      "execution_count": 0,
      "outputs": []
    },
    {
      "cell_type": "markdown",
      "metadata": {
        "id": "atkLE5osyT-J",
        "colab_type": "text"
      },
      "source": [
        "# Neural Network Definition"
      ]
    },
    {
      "cell_type": "code",
      "metadata": {
        "id": "HoWptP_syUUW",
        "colab_type": "code",
        "colab": {}
      },
      "source": [
        "#*Definition of the Neural Network\n",
        "class neuralnet(nn.Module):\n",
        "    def __init__(self):\n",
        "        super(neuralnet, self).__init__()\n",
        "        self.fc1 = nn.Linear(layer_nodes[0], layer_nodes[1])\n",
        "        self.fc2 = nn.Linear(layer_nodes[1], layer_nodes[2])\n",
        "        self.fc3 = nn.Linear(layer_nodes[2], layer_nodes[3])\n",
        "        self.fc4 = nn.Linear(layer_nodes[3], layer_nodes[4])\n",
        "        self.dropout = nn.Dropout(p=0.25)                            #? Should I add more dropouts with diff probabilities\n",
        "\n",
        "    def forward(self, x):\n",
        "        x = self.dropout(F.relu(self.fc1(x)))\n",
        "        x = self.dropout(F.relu(self.fc2(x)))\n",
        "        x = self.dropout(F.relu(self.fc3(x)))\n",
        "        output = self.dropout(F.log_softmax(self.fc4(x), dim=1))\n",
        "\n",
        "        return output\n",
        "\n",
        "test = neuralnet()\n",
        "print(\"\\nNEURAL NETWORK ARCHITECTURE\")\n",
        "print(test)"
      ],
      "execution_count": 0,
      "outputs": []
    },
    {
      "cell_type": "markdown",
      "metadata": {
        "id": "A0QOw7bXyYbR",
        "colab_type": "text"
      },
      "source": [
        "# Sample Outputs for verification"
      ]
    },
    {
      "cell_type": "code",
      "metadata": {
        "id": "95IyBByzyY50",
        "colab_type": "code",
        "colab": {}
      },
      "source": [
        "#Sample output from Neural Net for verification\n",
        "random_data, sampling = torchaudio.load(r\"all/209992-5-3-5.wav\", out=None, normalization=True)\n",
        "res_data = torchaudio.transforms.Resample(sampling, 44100)(random_data)\n",
        "mono_data = torch.mean(res_data, dim=0)\n",
        "feats = torchaudio.transforms.MFCC(sample_rate=sampling, n_mfcc=13)(mono_data)\n",
        "feats = feats.reshape(1, -1)\n",
        "feats = feats\n",
        "\n",
        "result = test(feats)\n",
        "print(result)\n",
        "\n",
        "#Sample from Dataloader\n",
        "samplenet = neuralnet()\n",
        "if use_cuda:\n",
        "    samplenet.cuda()\n",
        "\n",
        "train_iter = iter(trainloader)\n",
        "f, l = train_iter.next()\n",
        "if use_cuda:\n",
        "    f, l = f.cuda(), l.cuda()\n",
        "\n",
        "print(f.shape, l.shape)\n",
        "\n",
        "f = f.view(f.shape[0], -1)\n",
        "print(f.shape)\n",
        "\n",
        "ps = torch.exp(samplenet(f))\n",
        "print(ps.shape)\n",
        "\n",
        "# top_p, top_class = ps.topk(1, dim=1)\n",
        "# print(top_p, top_class)\n",
        "# print('features shape on batch size = {}'.format(f.size()))\n",
        "# print('labels shape on batch size = {}'.format(l.size()))"
      ],
      "execution_count": 0,
      "outputs": []
    },
    {
      "cell_type": "markdown",
      "metadata": {
        "id": "HUJStkU6ydmc",
        "colab_type": "text"
      },
      "source": [
        "# Training and Testing"
      ]
    },
    {
      "cell_type": "code",
      "metadata": {
        "id": "-bI_-b8GyeEn",
        "colab_type": "code",
        "colab": {}
      },
      "source": [
        "#*Defining Loss calulcation criteria and updation parameters\n",
        "logs_base_dir = \"runs\"\n",
        "%tensorboard --logdir {logs_base_dir}\n",
        "\n",
        "writer = SummaryWriter(\"runs\")\n",
        "\n",
        "acoustclassifier = neuralnet()\n",
        "if use_cuda:\n",
        "    acoustclassifier.cuda()\n",
        "\n",
        "criterion = nn.NLLLoss()\n",
        "optimizer = optim.SGD(acoustclassifier.parameters(), lr = 0.001)\n",
        "\n",
        "train_losses = []\n",
        "test_losses = []\n",
        "\n",
        "#*Training Loop\n",
        "max_epochs = 10    \n",
        "print(\"TRAINING\")               \n",
        "\n",
        "for e in range(max_epochs):\n",
        "    runningloss = 0\n",
        "\n",
        "    for i, data in enumerate(trainloader):\n",
        "        acoustclassifier.train()\n",
        "        optimizer.zero_grad()\n",
        "\n",
        "        og_features, og_labels = data\n",
        "        og_features = og_features.view(og_features.shape[0], -1)\n",
        "        if use_cuda:\n",
        "            og_features = og_features.cuda()\n",
        "            og_labels = og_labels.cuda()\n",
        "\n",
        "        output = acoustclassifier(og_features)\n",
        "        loss = criterion(output, og_labels)        \n",
        "        loss.backward()\n",
        "        optimizer.step()\n",
        "\n",
        "        runningloss += loss.item()\n",
        "        print('[{}, {}] runningloss: {:.3f} loss: {:.3f}'.format(e + 1, i + 1, runningloss/len(trainloader), loss.item()))\n",
        "        \n",
        "        writer.add_graph(acoustclassifier, og_features)\n",
        "        writer.add_scalar('Training Loss:', runningloss/len(trainloader), e * len(trainloader) + i)\n",
        "        writer.add_scalar('Loss:', loss.item(), e * len(trainloader) + i)\n",
        "    else:\n",
        "        test_loss = 0\n",
        "        accuracy = 0\n",
        "        \n",
        "        # Turn off gradients for validation, saves memory and computations\n",
        "        with torch.no_grad():\n",
        "\n",
        "            acoustclassifier.eval()\n",
        "            print(\"\\nTESTING\")\n",
        "\n",
        "            for test_features, test_labels in testloader:\n",
        "                test_features = test_features.view(test_features.shape[0], -1)\n",
        "                if use_cuda:    \n",
        "                    test_features = test_features.cuda()\n",
        "                    test_labels = test_labels.cuda()\n",
        "\n",
        "                logps = acoustclassifier(test_features)\n",
        "                test_loss += criterion(logps, test_labels)\n",
        "                ps = torch.exp(logps)\n",
        "                top_p, top_class = ps.topk(1, dim=1)\n",
        "                equals = top_class == test_labels.view(*top_class.shape)\n",
        "                accuracy += torch.mean(equals.type(torch.FloatTensor))\n",
        "                \n",
        "        train_losses.append(runningloss/len(trainloader))\n",
        "        test_losses.append(test_loss/len(testloader))\n",
        "\n",
        "        if not os.path.exists('checkpoints'):\n",
        "            os.makedirs('checkpoints')\n",
        "\n",
        "        torch.save(acoustclassifier.state_dict(), r\"/content/gdrive/My Drive/UrbanSound8K/checkpoints/chkpt_\" + str(e+1) + \".pth\")\n",
        "\n",
        "        print(\"Chkpt {} saved!\\t\".format(e+1),\n",
        "              \"Epoch: {}/{}\\t\".format(e+1, max_epochs),\n",
        "              \"Training Loss: {:.3f}\\t\".format(runningloss/len(trainloader)),\n",
        "              \"Test Loss: {:.3f}\\t\".format(test_loss/len(testloader)),\n",
        "              \"Test Accuracy: {:.3f}\\t\".format(accuracy/len(testloader)))\n",
        "        \n",
        "        writer.add_scalar(\"Test Accuracy:\", accuracy/len(testloader), e * len(testloader) + i)\n",
        "        writer.add_scalar(\"Test Loss:\", test_loss/len(testloader), e * len(testloader) + i)\n",
        "\n",
        "writer.close()\n",
        "#*Saving the trained model\n",
        "print(acoustclassifier.state_dict().keys())\n",
        "# torch.save(acoustclassifier.state_dict(), 'trained_model.pth')\n",
        "\n",
        "path = \"/content/gdrive/My Drive/UrbanSound8K/trainedmodel.pth\" \n",
        "torch.save(model.state_dict(), path)\n",
        "print(\"MODEL TRAINED AND SAVED!\")"
      ],
      "execution_count": 0,
      "outputs": []
    }
  ]
}